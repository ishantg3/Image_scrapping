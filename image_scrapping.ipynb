{
  "nbformat": 4,
  "nbformat_minor": 0,
  "metadata": {
    "colab": {
      "provenance": []
    },
    "kernelspec": {
      "name": "python3",
      "display_name": "Python 3"
    },
    "language_info": {
      "name": "python"
    }
  },
  "cells": [
    {
      "cell_type": "code",
      "execution_count": 2,
      "metadata": {
        "id": "kMN3e0sLrCX8"
      },
      "outputs": [],
      "source": [
        "import requests\n",
        "from bs4 import BeautifulSoup\n",
        "from urllib.request import urlopen as uReq\n",
        "import os"
      ]
    },
    {
      "cell_type": "code",
      "source": [
        "save_dir=\"images/\"\n",
        "if not os.path.exists(save_dir):\n",
        "  os.makedirs(save_dir)"
      ],
      "metadata": {
        "id": "LPhlO11BrSL9"
      },
      "execution_count": 5,
      "outputs": []
    },
    {
      "cell_type": "code",
      "source": [
        "query=\"BillGates\"\n",
        "response=requests.get(f\"https://www.google.com/search?q={query}&tbm=isch&ved=2ahUKEwjCg_GDhpWCAxUsF2IAHSTqC_sQ2-cCegQIABAA&oq=elon+musk&gs_lcp=CgNpbWcQAzIECCMQJzIICAAQgAQQsQMyBwgAEIoFEEMyBwgAEIoFEEMyCAgAEIAEELEDMgcIABCKBRBDMgcIABCKBRBDMgcIABCKBRBDMgcIABCKBRBDMgcIABCKBRBDOgUIABCABFDdBVioD2DQFGgAcAB4AIABdogB1AWSAQMzLjSYAQCgAQGqAQtnd3Mtd2l6LWltZ8ABAQ&sclient=img&ei=Zg47ZcK4IayuiLMPpNSv2A8&bih=708&biw=1528&hl=en\")"
      ],
      "metadata": {
        "id": "UGznrtL3rSOt"
      },
      "execution_count": 26,
      "outputs": []
    },
    {
      "cell_type": "code",
      "source": [
        "response"
      ],
      "metadata": {
        "colab": {
          "base_uri": "https://localhost:8080/"
        },
        "id": "-yk0JuPmrSXN",
        "outputId": "b5004466-f7c7-4991-c197-c20d5239d134"
      },
      "execution_count": 28,
      "outputs": [
        {
          "output_type": "execute_result",
          "data": {
            "text/plain": [
              "<Response [200]>"
            ]
          },
          "metadata": {},
          "execution_count": 28
        }
      ]
    },
    {
      "cell_type": "code",
      "source": [
        "soup=BeautifulSoup(response.content, 'html.parser')\n"
      ],
      "metadata": {
        "id": "E_l5uNfIrSZ6"
      },
      "execution_count": 32,
      "outputs": []
    },
    {
      "cell_type": "code",
      "source": [
        "images_tages=soup.find_all(\"img\")"
      ],
      "metadata": {
        "id": "fJswz-sQrSc_"
      },
      "execution_count": 33,
      "outputs": []
    },
    {
      "cell_type": "code",
      "source": [
        "len(images_tages)"
      ],
      "metadata": {
        "colab": {
          "base_uri": "https://localhost:8080/"
        },
        "id": "QJwic6SQrSnu",
        "outputId": "1f4d45ab-6cbf-431e-ea6e-224f86ce2b51"
      },
      "execution_count": 34,
      "outputs": [
        {
          "output_type": "execute_result",
          "data": {
            "text/plain": [
              "21"
            ]
          },
          "metadata": {},
          "execution_count": 34
        }
      ]
    },
    {
      "cell_type": "code",
      "source": [
        "del images_tages[0]"
      ],
      "metadata": {
        "id": "tY7tL5IBrSsB"
      },
      "execution_count": 35,
      "outputs": []
    },
    {
      "cell_type": "code",
      "source": [
        "images_tages"
      ],
      "metadata": {
        "colab": {
          "base_uri": "https://localhost:8080/"
        },
        "id": "9ATS__li65fI",
        "outputId": "142e4edd-8495-45bd-ae7b-547f6b327b7a"
      },
      "execution_count": 36,
      "outputs": [
        {
          "output_type": "execute_result",
          "data": {
            "text/plain": [
              "[<img alt=\"\" class=\"DS1iW\" src=\"https://encrypted-tbn0.gstatic.com/images?q=tbn:ANd9GcSOBVIGThY_Oj9qTfFk7mreJ3lz9OFQBlPjB0wV8-iipP58TD2t8LgTDnALgiA&amp;s\"/>,\n",
              " <img alt=\"\" class=\"DS1iW\" src=\"https://encrypted-tbn0.gstatic.com/images?q=tbn:ANd9GcSa-5NFtnS7e3GfiClw2gKDcAS7FmglPJE8CcAfPhCXgJ0ZMK7tdfByJFYNyg&amp;s\"/>,\n",
              " <img alt=\"\" class=\"DS1iW\" src=\"https://encrypted-tbn0.gstatic.com/images?q=tbn:ANd9GcTNzXs17mHandVIXHW-5XRwfJAjABLv0nF0P20Z7BkC8RBcZf0EO6VhObq0Uw&amp;s\"/>,\n",
              " <img alt=\"\" class=\"DS1iW\" src=\"https://encrypted-tbn0.gstatic.com/images?q=tbn:ANd9GcQQ5xLz-6FHhj1e1XCLlwdT2a8Ml18-LLU3xPAfx2Hc-S758u-1_W6Yo5N5Dw&amp;s\"/>,\n",
              " <img alt=\"\" class=\"DS1iW\" src=\"https://encrypted-tbn0.gstatic.com/images?q=tbn:ANd9GcTyXfHUOPkFJ_RS2hsbG_9yAozpnB2jVKmc1AlW7glGArKqyWLT9PRH11h-cQ&amp;s\"/>,\n",
              " <img alt=\"\" class=\"DS1iW\" src=\"https://encrypted-tbn0.gstatic.com/images?q=tbn:ANd9GcSONhJLcx3R5TzhgOb7MZ-7IN_0iivuMvWkVQX7t7DxTZxW0spuUAlJ51jzTA&amp;s\"/>,\n",
              " <img alt=\"\" class=\"DS1iW\" src=\"https://encrypted-tbn0.gstatic.com/images?q=tbn:ANd9GcTIAPtoYOUXq1k7PJ1vDY64SDlD7RNSI4RxLC33LrA777EF1nzazZgih0M1PYo&amp;s\"/>,\n",
              " <img alt=\"\" class=\"DS1iW\" src=\"https://encrypted-tbn0.gstatic.com/images?q=tbn:ANd9GcQ2dnB749AvRzTlFwyil3RGI1dv8szJvmnXK8dDPPtccKRqwoz6zrmGjveODvs&amp;s\"/>,\n",
              " <img alt=\"\" class=\"DS1iW\" src=\"https://encrypted-tbn0.gstatic.com/images?q=tbn:ANd9GcT9LRJOtSZ2v82lYkUtIt_He8HSAULMEqlVZat9cj1gPZ2FKHlXiF-frbMu5O0&amp;s\"/>,\n",
              " <img alt=\"\" class=\"DS1iW\" src=\"https://encrypted-tbn0.gstatic.com/images?q=tbn:ANd9GcSkh89dwuqriAzs4o0E6g6VMHSrMgPs4JzjaoWkjnatn2vEBmGZzdAiyvUUJjo&amp;s\"/>,\n",
              " <img alt=\"\" class=\"DS1iW\" src=\"https://encrypted-tbn0.gstatic.com/images?q=tbn:ANd9GcSVyS3dvYjiJ5F_wJoVShLnlRUriqPyIwbXlpvZfZm6uwb4lhCt6NxHTCSB&amp;s\"/>,\n",
              " <img alt=\"\" class=\"DS1iW\" src=\"https://encrypted-tbn0.gstatic.com/images?q=tbn:ANd9GcQKFYRFOrKHeCyBIzxNZVl2gwGy8snyRuXna0raQ1vjIWPUx4QGbuzNTO-GN4Y&amp;s\"/>,\n",
              " <img alt=\"\" class=\"DS1iW\" src=\"https://encrypted-tbn0.gstatic.com/images?q=tbn:ANd9GcSaGvMcA8EQBo_GThfRE7ue3WjPqseKgJg5b5LUsRjVph97oQw23scDDAc9CeU&amp;s\"/>,\n",
              " <img alt=\"\" class=\"DS1iW\" src=\"https://encrypted-tbn0.gstatic.com/images?q=tbn:ANd9GcQqkffdqWgukVYlx7kWfuuW6fJa4FJAfiBRfqS_BjkeGc3GSjEMqvaXYzR2WWE&amp;s\"/>,\n",
              " <img alt=\"\" class=\"DS1iW\" src=\"https://encrypted-tbn0.gstatic.com/images?q=tbn:ANd9GcSXAIWNXSnMMUg7mwDUDnap_R39bcDL-iSZHPbLcutdI0RyOmP6ehLZn8E5Tw&amp;s\"/>,\n",
              " <img alt=\"\" class=\"DS1iW\" src=\"https://encrypted-tbn0.gstatic.com/images?q=tbn:ANd9GcRca9P1DETQlliEBh8DZrLXw1RTVgDPfMHjD9QeUDsKZ292ZWwhoRXJ2pEwmsw&amp;s\"/>,\n",
              " <img alt=\"\" class=\"DS1iW\" src=\"https://encrypted-tbn0.gstatic.com/images?q=tbn:ANd9GcRjJ5gNWiBmIrLklkAXs_goDv9g3PfLN-vgsPHJdqKSCfzWxEU-aZfLl5B1Cyc&amp;s\"/>,\n",
              " <img alt=\"\" class=\"DS1iW\" src=\"https://encrypted-tbn0.gstatic.com/images?q=tbn:ANd9GcT50DGCTGTExHW_RwrO8C1VaOp0KoPlmTyk01uvCB5b2OqOhiBcI9iZnYpehR4&amp;s\"/>,\n",
              " <img alt=\"\" class=\"DS1iW\" src=\"https://encrypted-tbn0.gstatic.com/images?q=tbn:ANd9GcQYKWhvcb0WRBZWTc5YEz6t0uUh4cbbS2Fk-OPMI356jlzboZHh-ZdRigYQ8A&amp;s\"/>,\n",
              " <img alt=\"\" class=\"DS1iW\" src=\"https://encrypted-tbn0.gstatic.com/images?q=tbn:ANd9GcRaW-25AJpPGgWo3X4jnGdOAzabKs79LkRbOhL9RbNQBBjS76o2WCLKNgHagw&amp;s\"/>]"
            ]
          },
          "metadata": {},
          "execution_count": 36
        }
      ]
    },
    {
      "cell_type": "code",
      "source": [
        "for i in images_tages:\n",
        "  images_url=i['src']\n",
        "  image_data=requests.get(images_url).content\n",
        "  with open(os.path.join(save_dir, f\"{query}_{images_tages.index(i)}.jpg\"), \"wb\") as f:\n",
        "    f.write(image_data)"
      ],
      "metadata": {
        "id": "iXp7NSrc7BMf"
      },
      "execution_count": 37,
      "outputs": []
    },
    {
      "cell_type": "code",
      "source": [
        "requests.get(images_tages[1]['src']).content"
      ],
      "metadata": {
        "colab": {
          "base_uri": "https://localhost:8080/"
        },
        "id": "_Zi0XwBm7BPK",
        "outputId": "70181721-be87-4c1e-f3cb-63c4b04f2dda"
      },
      "execution_count": 38,
      "outputs": [
        {
          "output_type": "execute_result",
          "data": {
            "text/plain": [
              "b'\\xff\\xd8\\xff\\xe0\\x00\\x10JFIF\\x00\\x01\\x01\\x00\\x00\\x01\\x00\\x01\\x00\\x00\\xff\\xdb\\x00\\x84\\x00\\t\\x06\\x07\\x08\\x07\\x06\\t\\x08\\x07\\x08\\n\\n\\t\\x0b\\r\\x16\\x0f\\r\\x0c\\x0c\\r\\x1b\\x14\\x15\\x10\\x16 \\x1d\"\" \\x1d\\x1f\\x1f$(4,$&1\\'\\x1f\\x1f-=-157:::#+?D?8C49:7\\x01\\n\\n\\n\\r\\x0c\\r\\x1a\\x0f\\x0f\\x1a7%\\x1f%77777777777777777777777777777777777777777777777777\\xff\\xc0\\x00\\x11\\x08\\x00\\x8c\\x00h\\x03\\x01\"\\x00\\x02\\x11\\x01\\x03\\x11\\x01\\xff\\xc4\\x00\\x1c\\x00\\x00\\x00\\x07\\x01\\x01\\x00\\x00\\x00\\x00\\x00\\x00\\x00\\x00\\x00\\x00\\x00\\x00\\x02\\x03\\x04\\x05\\x06\\x07\\x01\\x08\\xff\\xc4\\x00;\\x10\\x00\\x02\\x01\\x03\\x02\\x02\\x06\\x08\\x04\\x05\\x04\\x03\\x00\\x00\\x00\\x00\\x01\\x02\\x03\\x00\\x04\\x11\\x05!\\x121\\x06\\x13\"AQa\\x07\\x14q\\x81\\x91\\xa1\\xb1\\xc1#2BR3br\\xd1\\xf0\\x82\\x92\\xc2\\xe1\\x15$S\\xff\\xc4\\x00\\x18\\x01\\x00\\x03\\x01\\x01\\x00\\x00\\x00\\x00\\x00\\x00\\x00\\x00\\x00\\x00\\x00\\x00\\x00\\x02\\x03\\x01\\x04\\xff\\xc4\\x00\\x1f\\x11\\x00\\x02\\x02\\x02\\x03\\x01\\x01\\x01\\x00\\x00\\x00\\x00\\x00\\x00\\x00\\x00\\x00\\x01\\x02\\x11\\x03!\\x121A\"Q2\\xff\\xda\\x00\\x0c\\x03\\x01\\x00\\x02\\x11\\x03\\x11\\x00?\\x00\\xad\\xf0\\xd0\\tJ(8\\xe5]\\x0b\\xbd\\x16e1ku\\x1bT\\xad\\xa0\\xa8\\xcbu%\\x80\\x03z\\xb0Z\\xd8\\xb4q\\x99&`\\xbc8\\xec\\x8f\\x13S\\x90\\xd1\\x1d\\xda\\xab\\x120)\\xd9\\xec\\x1e\\x16!O\\x815\\x05u\\xaaF\\xaa\\xd1\\xc4\\xc5\\x94\\x1c7W\\x9d\\xfd\\xa4}9\\x9ad\\xae\\xd79\\xebY\\xb2N8q\\x93\\xf2\\xe5\\xec\\xc6jtX\\xb43\\xa8\\x19\\xe3\\x18\\xa3\\xc4\\xc1\\x940 \\xaf\\x889\\x15R\\x9cC\\x1cf8\\xdeT\\xc1\\xc9\\xec1\\x07\\xfd\\xb4\\xd2-F\\xe2\\xc6p\\xf6\\xf2#\\x03\\xf9\\x80Q\\xda\\x1ek\\xcc\\xe3\\xce\\x8e!\\xa3A\\x8e\\x9c\\xa7*\\xa9\\xe8\\xfd\"\\x13Ja\\x94n7\\x07\\x80\\xa8+\\xef\\xe4G\\x87\\x85Z\\xe1`\\xca\\x08;\\x11\\xb5#T\\x02\\xa3\\x9d\\x18Q\\x05\\x1e\\xb0\\xd0\\xc2\\x85\\n\\x14\\x18e`mE\\'\\x06\\x97\\xea\\xc9\\x1b\\x8ak8\\xe15\\xd2\\x98\\xf9 \\x89;\\x1b\\xfbK\\x14->\\x04\\xc7\\x1c\\x0c\\xcb\\x80=\\xf4yu\\x04\\xbfC\\x12\\xa3L\\x06O\\x02\\xb7?\\x9e\\x08\\xf6\\xd5ue7\\x1a\\x84\\x89/\\x18\\x86\\x10\\x063\\xb3\\x1cf\\xa4\\x14O,\\x7f\\xfa\\x91aI\\xc0\\xc0\\xc6)[\\xa2Q\\x8f\\x88vm\\xaeQ\\xd8\\xf5+\\x14k\\xb8<|\\xbc\\x87?\\x8d\\x11\\xe1\\xbd\\x952\\x06c\\x07\\x00.\\xc1\\xbb\\xff\\x00\\xcd\\xa9\\xec\\x16\\xd3I\\xd5\\xc0\\xa8\\xab\\xe2s\\xb9>5+=\\xbf\\x0ck\\x0fh\\xe0\\x1c\\x0eU\\'\\x90\\xe8X\\x7fHH\\xda\\x08\\x1b\\xaa\\xe3\\x06NG\\xaa\\x03c\\xe1\\xe7M\\xa7\\x8a\\x0b\\xce&\\x89%\\xdb\\x01\\xb8\\x9c\\x90\\x0f\\x8e\\x08\\xaej\\xcal\\xdb\\xafT#\\x96[\\xccw\\xd3H\\xaf\\xe4n\\x19\\xe3\\xc0\\r\\xb6\\xdc\\x88<\\xe9\\x94\\xd3\\x11\\xe2i\\x9c\\x9bC\\xd4\\xd6H\\xee-\\xe4\\xec\\xab\\x02\\xcb\\x9c\\x1cw\\xd6\\x87\\xd1\\xe2\\xdf\\xf8\\xa8x\\x8eH\\'\\xdc3U\\xeb\\x0b\\xe5\\x9e\\xc4\\x9d\\xba\\xc0\\xc0\\x81\\xf6\\xa7\\x1a>\\xaf\\x1d\\xbd\\xcbD\\xc7\\t\\xc5\\xda\\x07\\x92\\xd6\\xbd\\xa1*\\x8bp\\xa3\\n\"\\xf7xR\\x80T\\xc0\\xed\\n\\x14(\\x036\\x0e1\\xce\\x99\\xdd\\xe0\\xe6\\x9c\\x858\\xa6\\xf3!bj\\xe8\\xa6Gc3g\\xeb:\\x98@\\xe4F\\xea\\xa0\\xf7g\\xc7\\xdd\\x8c\\xef\\xe7WkK{{K(\\xe1\\xc0,y\\x9a\\xa4\\x1b\\xc3a\\xa9\\x99%\\x88\\x94\\x95@G\\xee\\x00\\x0e_Z\\xb2\\xdaj\\x10\\x80\\xb3\\xcb<l\\xe7\\x01P8$\\xe7\\x96\\x07\\xc2\\x93\\'B\\xe1\\xfe\\xac\\x9e\\x86\\xcc`1\\xdb\\xc0\\xe6\\x9d0\\x80\\xe0\\x1c\\x1cx\\x9a\\xa6_\\xf4\\x8a\\xe5d*\\x9d{(%\\x7f\\x04g\\xe2p~T\\xd2\\xd3P\\x9b\\xd6c2\\xbc\\xca\\x8c\\xc1Y\\xa4$\\x8d\\xea<\\x1fgJ\\x9a\\xe8\\xb9\\xddZ\\xd9\\xce\\x19eUu\\xef\\x06\\xa3\\x9bD\\xb1\\xc1X\\x94(\\xf0\\xc6\\xd5\\x1f\\xd2)\\x96(\\xa0[I\\xdd\\xe4\\x95\\xb8{;\\x16\\xff\\x007\\xa8\\xa8e\\xd4\\xe0*b\\xb7\\x96@\\xc7\\x07,N\\x07\\xbd\\xa8P\\xb3e*\\x1f\\xa6\\x9e\\xd67[d\\xc3\\xb9\\xc05\\x0f\\xae\\xcf=\\xae\\xa8\\xbdT\\x84q\\x80\\xc0x\\xf9\\xff\\x00\\xd7\\xb6\\xa5\\x8d\\xe4\\xc2R&\\x85\\xf8\\x8er\\x8b\\xcc|O\\xde\\xa2\\xf5u7\\x97\\x91\\x19`dE\\x8cc\\x88\\xeeFH\\xe4<0*\\x98\\xee\\xf6C.\\xf6\\x8d\\x03\\xa2W\\x0fq\\xa4\\x0e\\xb1\\x8b4nS\\x97!\\xb6>\\xb58*\\'\\xa3v~\\xa5\\xa5\\xc3\\x19\\'\\x89\\x87\\x11\\xcf\\xf9\\xe1\\x8a\\x97\\x15\\x8f\\xb2\\'qB\\x85\\n\\x00\\xce\\n\\xedI\\xb4Y\\xa7a\\x05w\\x80SY\\xad\\xd8\\xdd,!\\xba\\x85\\x96\\xe1\\x89\\x88g\\xf0\\xf1\\x90[`\\x0f\\x97:x\\xb6\\xd0\\xc8\\x1a\\xde1\\xd5\\xc4\\xaa\\x02\\x809xmJYF\\xb2;G\\xc4\\x13\\xf5\\x06\\xc7,R\\x17\\x17>\\xab9\\x97\\x98bq\\x9a\\x9c\\xdbGF$\\x9aLs.\\x9d \\x81V\\x19R\\x18Pc\\x1c\\x1d\\xaf\\x8ew\\xf8Si4\\xd8\\xc8\\x85Y\\xe4\\x90\\xf5\\x81\\xc1r;\\xb9}i\\xbd\\xce\\xbc\\xec\\xa2(\\x904\\xcd\\xc9s\\xb0\\xf6\\xd1\\xa3\\xbd\\xbc\\xb0\\x88M%\\xb4w<g/!\\xd8\\xa7\\xf4\\xd2\\xa6\\xd9f\\xa2\\x89Mj\\xc5d\\x82\\xd1\\xe4\\x8f\\x05\\x1b\\x8f~\\xe2\\r&\\xbaLm\\x86\\x8ey\\xe1\\'\\xf6\\xbf\\xf7\\x14\\xc2\\xe3\\xa5r\\xdd\\xb2\\xc7m\\x08\\x91\\x81\\x18S\\xcb\\xdfH\\xcd=\\xfd\\xbc\\xbe\\xb0\\x1c\\x10\\xdb\\xb4#`=\\x94l>[\\x1e\\xdf[Em\\xcf\\x8aI\\x02\\xe0H\\xf8\\xc9\\xfaxS+!\\xd6][$\\xa9\\x94\\x90\\xf0\\x8f#\\x91\\xb7\\xce\\x91\\xb8\\xd5M\\xe2\\xa9\\xef\\xfa\\x1a\\x92\\xd2\\xd8\\xb4\\x80\"#\\x1c\\xf67\\xdc6(\\x8bfN(\\xbcF\\xa1\\x14*\\xe0\\x01\\xe1G\\x14\\x94y\\xe1\\x1cX\\xce7\\xc5(\\rP\\xe1\\x0f\\x9a\\x14J\\xed\\x00g\\xa2j\\x1dw\\x9d!\\x83C\\x06\\x9e\\x8c\\xb1e\\xb9h\\x9f\\x8dq\\x9f:kq,\\xd3\\xc6\\xe6\\xe0\\x00\\xc6C\\xc3\\x8eDlG\\xde\\x8cT\\xd2\\xb3B$\\xd3d\\x94vZ&P\\t\\xfdD\\x82p=\\xc0\\x9fu,\\xa3h\\xae<\\x94\\xe8\\x8e\\x8a\\xcd\\x9a\\'\\xf5g\\x0b9;qr>\\x14\\xad\\xbc\\xba\\xc1\\x8d\\xa3\\xb9\\x86(\\xc08\\xc8\\x0c\\xe0\\x8f\\x1d\\xbe\\xe2\\x91\\x8a|J\\x87\\x91S\\xbdOH\\x97N\\xa1\\xa1\\xe2\\x0c{\\xd7\\xbe\\xa5u\\xd9\\xd3W\\xb2%a\\xb8\\x8d\\x8bB\\xd6\\xe1\\xb3\\x81\\xc1\\x0b\\xb1o\\x95\"\\xd1j\\xf77\\x0e.\\xba\\xa8\\xad\\x97\\xbf\\x07\\x8d\\x87\\xb3;T\\xb8\\xb6\\xd5y\\xbc\\xb2\\x05?\\xcci\\x1b\\xee;k6\\xe2\\'\\'\\x9f\\x89\\xad\\xb3Z\\xfd\"\\xe6H\\x91\\xc8\\x8c\\x0c\\x0eg<\\xcd\\\\:-\\xa7\\xda\\xc5\\x10\\xbeP\\xe6y\\x87h\\xb98\\x18\\xdba\\xdd\\xca\\xaa\\x1ad\"\\xf6\\xfa(\\xe4\\x07\\xaa\\xce[\\xbb\"\\xaf\\xb6\\xae\\xa8\\xaa\\xaa0\\xa0`\\x0f\\x01[\\x18\\x9c\\xf9g\\xe2%\\x81\\xa3\\nk\\x1c\\x9et\\xa8\\x92\\x9a\\x88\\x8bP\\xa4\\xba\\xca\\x15\\xa1e [\\x9f\\n\\xef\\xab\\x1f\\n\\x9d\\x16\\xc2\\x83\\xc3\\x1cq\\x97\\x91\\x95\\x11y\\xb3\\x1c\\x01T\\x12\\xca\\xf5\\xc2-\\xbc2M)\\xc2\"\\xf11\\xf2\\xa9\\xcd;I7~\\x8f-\\xf5\\x17\\x19\\x9aY\\x8d\\xef\\x08\\xfd1\\xe0\\xa0_\\xf6\\x9c\\xfbI\\xaa/J\\xb5\\xa1x\\xe6\\xda\\xd4\\x91l\\xa7\\x9f\\xff\\x00C\\xe3\\xec\\xad_\\xd1\\x9c\\xaby\\xd0\\r1H\\x0c\\xb1\\xc6\\xd0\\xb0>\\x01\\x88\\xc5QB\\xd1\\x91\\x95J\\xcc\\xae\\xea,9+\\xdcq\\xce\\x9d\\xc3\\xaeK\\x02*>p9\\x1a\\x93\\xe9f\\x87.\\x8fz@\\x05\\xade$\\xc4\\xff\\x00c\\xe6*\\xbc\\xd1\\xe4\\x1d\\xab\\x9b\\x8f\\x8c\\xedO\\xd4H?HI\\xe4X\\xd3\\x0b\\xab\\xc9o\\xca\\xabl\\xa0\\xd2B=\\xf9\\ns\\x1a\\x05]\\x86\\xf5\\x94\\x91\\xb6\\xd9!\\xa0\\xc7\\xc3+\\xc8p\\x14\\x11\\x10\\xfe\\xa3\\x92>Hj\\xcd\\t\"\\xa0u\\x9d>]7\\xd1\\xd9\\xd4\\x14\\x94\\x9d\\xaf\\xa0\\x9c\\x1f\\xe5\\x04\\xaa\\xfc\\xd8\\x9a[I\\xe95\\x9d\\xccK\\xeb\\x7f\\x83\\'y\\xe6\\xa7\\xfbU\\x94\\x1f\\x13\\x97$\\xbe\\xd9d\\x8d\\xcd*\\x1e\\x9b\\xdb\\xc9\\x1d\\xc4|pH\\xb2\\'\\xeeC\\x91J\\x81YBX\\xa7\\x1f\\x95\\n.\\rr\\xb2\\x82\\xca\\xb6\\xa7\\xd3\\x18aR\\xb6\\x11\\x17o\\xde\\xfc\\x87\\xb0w\\xd5KQ\\xd5\\xee\\xef\\xd8\\xbd\\xc4\\xac\\xe4r\\x19\\xd9}\\x82\\xa3\\xa4\\x94\\x9e\\xfe\\xeaL\\xc8B\\xed]\\t$L+\\xb31\\xde\\xb4\\xbfC:\\xbb\\x8bk\\xfd%\\x9c\\x8e\\xaaA4c\\xc9\\xb9\\xfc\\xc6}\\xf5\\x98\\xb3\\xe4\\xd4\\xef@\\xae\\xda\\xd7\\xa5\\xb6\\x81_\\x83\\xd6\\x01\\x88\\x9c\\xecI\\xdcg\\xe1\\xf3\\xa6\\x03s\\xd4\\xad\\xe0\\xbd\\xb3x.\\xa3\\x12\\xc4\\xdc\\xd0\\xfdG\\x81\\xf3\\xac\\xdb[\\xe8\\xd5\\xc5\\x8b<\\xb6A\\xeem\\xb9\\xe0\\x0c\\xc8\\x83\\xccw\\x8f1ZDsI\\x1b\\x05\\x94\\x1fx\\xa7b\\x08n\\x14\\x1e\\x11\\x9aY\\xc1H\\xb4&\\xe2b1\\xa7\\x10\\xe2Z\\x9b\\xe8\\xae\\x8b&\\xb1{\\xd6L\\x8c,bo\\xc4|\\x7f\\x10\\x8f\\xd0>\\xe7\\xbb\\xdfS]9\\x16\\xd0\\xde,V\\x16v\\xb2\\\\\\xa6\\xf3\\xcb/\\x10L\\xf7)\\xe1#&\\xac]\\x1a\\xd5,o\\xed^\\xde\\x0bu\\xb4\\xb8\\xb4\\x00Ki\\xb0\\xe0\\x07\\x91_\\x15;\\xe0\\xfcjQ\\xc5\\xbd\\x96\\x96O\\x9d\\x15\\xafL7\\x02\\xdf\\xa1\\xf1\\xc0\\xab\\x8fX\\xbb\\x8a0\\x07\\xe9\\x0b\\x97\\xff\\x00\\x86++\\xb4\\x9b\\x00\\x02kK\\xf4\\xbe\\x93\\xcf\\xa1\\xa3p~\\x0c3\\t3\\xe7\\xf9~\\xf5\\x95\\xa1\\xc0\\x06\\xaer2Z+\\xd9\\xac\\xe5\\xeb-\\xe6\\x92\\x16?\\xad\\x0e>>5a\\xb0\\xe9\\xa5\\xdc8[\\xe8Rt\\xfd\\xe9\\xd9o\\xedU%`S~G\\xba\\x8a\\x0b&\\x01=\\x93\\xca\\xb1\\xa4\\xcc\\xb3V\\xd3\\xbaE\\xa5\\xdf\\xe0,\\xfdK\\x9f\\xd1/g\\xe7\\xca\\x85ebB\\xa79\\xa1I\\xc1\\x05\\x8d\\xd8\\xe7>\\xea\\xe3\\x0c\\xd2r\\xb3\\xa8&0\\x18\\x8clk\\x91\\xce\\x927\\x0ex_\\xbd[cNa\\xd6\\x18\\xa3A#\\xda\\xcd\\x15\\xc4_\\xc6\\x85\\xd6D\\xf6\\x83\\x91\\xf4\\xa1\\xf9\\xb7>\\xea\\x07z\\x00\\xf4\\xe6\\x95=\\xb6\\xad\\xa5\\xda\\xdd\\xae\\nO\\x12\\xc8\\xa4x\\x11\\x9a\\x85\\xe9\\xae\\xbbo\\xd1- \\xdc+u\\x97S\\x1e\\x0bXq\\xf9\\x9b\\xf7\\x1f\\xe5\\x1c\\xcf\\xc3\\xbe\\xa0=\\x12k\\xa8z-5\\xbd\\xd4\\x98:|\\xa5w9%\\x1b\\xb4\\xb8\\xf7\\x92\\xa3\\xd8)-j\\xc6\\xeb\\\\\\xbf{\\xddF0\\x13\\x94q\\x1d\\xc4h;\\x87\\xdf\\xce\\xb5\\xb2\\xb1V@i:\\xb476\\xab5\\xcd\\xc0\\x8en\"z\\xc7<\\x12?<\\x91\\xe2H\\xdf\\xdf\\xbd4\\xd3$\\xbd\\xb1\\xe9*j\\xf6 *G\\x94)\\xdd2w\\xa9\\xf2\\xfb\\xe0\\xd4\\xbd\\xa6\\x8fo\\x14\\xd0$0\\x8e\\x14\\xe31&\\xdb\\xf1\\x0c7\\x11\\xf1\\x03\\x18\\x06\\x9e\\xe96HJ\\xdbI\\'\\x1f\\x14_\\x86O0\\xab\\x80~\\xbf*DU\\x92^\\x90o\\xac\\xf5\\x8fG\\xd77Vd\\x11\\xd9\\xc8\\xefB\\x18eMb\\xab\\xf9kV\\xe9N\\x8c-:5\\xa9\\xcb\\x0b\\xb2+\\xc0K\\xa0\\xe4\\xd8\\xdcVR\\xbf\\x94{1LBU\\xe0`\\xc5w<\\xab\\xb1Hd\\xc9\\x03\\t\\xdd\\xc5\\xcc\\xd7\\x01\\xef\\xf3\\xcdt\\x10q\\xe3\\xce\\x81\\x03qwWi7=\\xc6\\x85\\x00p}\\xe8\\x8f\\x12;\\x06e\\x04\\x83\\xb7\\x95w=\\x9f}\\x05%\\x80$\\xeey\\xd0\\x01\\xab\\x86\\x87\\x9f\\x8d\\x03\\xdd@\\x16_G7I\\x07Jb\\x82_\\xe1\\xdd\\xa9\\x8f\\xfdcu?Q\\xef\\xad{R\\x83\\xaa\\xb5y\\x15\\xd1\\x08\\x1c\\xcf!^~\\x86y-\\'\\x86\\xe6\\x13\\xc3,2,\\x88|\\x089\\xafCk\\x18{\\x02\\x1dA\\x07\\x98>\\xc2h\\x1e\\x0fe:\\xe6N\\xd3u\\xbdb\\xa6;C\\x9b!\\xf2;ny\\xf2\\xa8\\xe5\\x95\\xecu(n\\xdf\\xb2\\xe9*\\xf5\\xc1@\\xc6\\xf9\\x1c+\\x83\\xc8\\xa9\\'\\xda\\x05?\\x9afU\\x13`\\x17U\\xceH\\xceI\\'\\x9d6\\xd5\\xad\\x95\\x12x\\x037\\x0c<\\x11\\xa1 g\\x12~n\\xee~\\x14\\x88\\xe8e\\x9f\\xa5h$\\xe8\\xc6\\xa6\\x80\\xe76\\xb2\\x10G\\x7fd\\xd6\\x16\\x87\\xb2\\xb9\\xf6\\xd6\\xd5\\x1c\\xads\\xd0\\xc6ypK\\xd8\\x9c\\xe3\\xfaMb\\x91\\xef\\x1a\\xfb\\x059\\xcf \\xc47\\xe9;\\xf2\\xc7\\x8duw\\xc0\\xf0\\xe7\\\\\\x07\\xef\\\\\\xce\\x17\\xdch\\x10\\xe19\\x1f:\\x15\\xc3\\xce\\x85\\x00\\x7f\\xff\\xd9'"
            ]
          },
          "metadata": {},
          "execution_count": 38
        }
      ]
    }
  ]
}